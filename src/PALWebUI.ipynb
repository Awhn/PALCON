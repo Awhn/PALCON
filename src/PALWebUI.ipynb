{
 "cells": [
  {
   "cell_type": "code",
   "execution_count": 1,
   "id": "d11d6d25",
   "metadata": {},
   "outputs": [
    {
     "name": "stdout",
     "output_type": "stream",
     "text": [
      "Defaulting to user installation because normal site-packages is not writeable\n",
      "Requirement already satisfied: gradio==4.29.0 in /home/awhn/.local/lib/python3.10/site-packages (4.29.0)\n",
      "Requirement already satisfied: aiofiles<24.0,>=22.0 in /home/awhn/.local/lib/python3.10/site-packages (from gradio==4.29.0) (23.2.1)\n",
      "Requirement already satisfied: altair<6.0,>=4.2.0 in /home/awhn/.local/lib/python3.10/site-packages (from gradio==4.29.0) (5.2.0)\n",
      "Requirement already satisfied: fastapi in /home/awhn/.local/lib/python3.10/site-packages (from gradio==4.29.0) (0.112.2)\n",
      "Requirement already satisfied: ffmpy in /home/awhn/.local/lib/python3.10/site-packages (from gradio==4.29.0) (0.3.2)\n",
      "Requirement already satisfied: gradio-client==0.16.1 in /home/awhn/.local/lib/python3.10/site-packages (from gradio==4.29.0) (0.16.1)\n",
      "Requirement already satisfied: httpx>=0.24.1 in /home/awhn/.local/lib/python3.10/site-packages (from gradio==4.29.0) (0.24.1)\n",
      "Requirement already satisfied: huggingface-hub>=0.19.3 in /home/awhn/.local/lib/python3.10/site-packages (from gradio==4.29.0) (0.21.4)\n",
      "Requirement already satisfied: importlib-resources<7.0,>=1.3 in /home/awhn/.local/lib/python3.10/site-packages (from gradio==4.29.0) (6.3.1)\n",
      "Requirement already satisfied: jinja2<4.0 in /usr/lib/python3/dist-packages (from gradio==4.29.0) (3.0.3)\n",
      "Requirement already satisfied: markupsafe~=2.0 in /home/awhn/.local/lib/python3.10/site-packages (from gradio==4.29.0) (2.1.5)\n",
      "Requirement already satisfied: matplotlib~=3.0 in /usr/lib/python3/dist-packages (from gradio==4.29.0) (3.5.1)\n",
      "Requirement already satisfied: numpy~=1.0 in /home/awhn/.local/lib/python3.10/site-packages (from gradio==4.29.0) (1.26.2)\n",
      "Requirement already satisfied: orjson~=3.0 in /home/awhn/.local/lib/python3.10/site-packages (from gradio==4.29.0) (3.9.15)\n",
      "Requirement already satisfied: packaging in /usr/lib/python3/dist-packages (from gradio==4.29.0) (21.3)\n",
      "Requirement already satisfied: pandas<3.0,>=1.0 in /home/awhn/.local/lib/python3.10/site-packages (from gradio==4.29.0) (2.2.1)\n",
      "Requirement already satisfied: pillow<11.0,>=8.0 in /home/awhn/.local/lib/python3.10/site-packages (from gradio==4.29.0) (9.5.0)\n",
      "Requirement already satisfied: pydantic>=2.0 in /home/awhn/.local/lib/python3.10/site-packages (from gradio==4.29.0) (2.8.2)\n",
      "Requirement already satisfied: pydub in /home/awhn/.local/lib/python3.10/site-packages (from gradio==4.29.0) (0.25.1)\n",
      "Requirement already satisfied: python-multipart>=0.0.9 in /home/awhn/.local/lib/python3.10/site-packages (from gradio==4.29.0) (0.0.9)\n",
      "Requirement already satisfied: pyyaml<7.0,>=5.0 in /usr/lib/python3/dist-packages (from gradio==4.29.0) (5.4.1)\n",
      "Requirement already satisfied: ruff>=0.2.2 in /home/awhn/.local/lib/python3.10/site-packages (from gradio==4.29.0) (0.3.3)\n",
      "Requirement already satisfied: semantic-version~=2.0 in /home/awhn/.local/lib/python3.10/site-packages (from gradio==4.29.0) (2.10.0)\n",
      "Requirement already satisfied: tomlkit==0.12.0 in /home/awhn/.local/lib/python3.10/site-packages (from gradio==4.29.0) (0.12.0)\n",
      "Requirement already satisfied: typer<1.0,>=0.12 in /home/awhn/.local/lib/python3.10/site-packages (from gradio==4.29.0) (0.12.5)\n",
      "Requirement already satisfied: typing-extensions~=4.0 in /home/awhn/.local/lib/python3.10/site-packages (from gradio==4.29.0) (4.9.0)\n",
      "Requirement already satisfied: urllib3~=2.0 in /home/awhn/.local/lib/python3.10/site-packages (from gradio==4.29.0) (2.2.1)\n",
      "Requirement already satisfied: uvicorn>=0.14.0 in /home/awhn/.local/lib/python3.10/site-packages (from gradio==4.29.0) (0.28.0)\n",
      "Requirement already satisfied: fsspec in /home/awhn/.local/lib/python3.10/site-packages (from gradio-client==0.16.1->gradio==4.29.0) (2024.3.1)\n",
      "Requirement already satisfied: websockets<12.0,>=10.0 in /home/awhn/.local/lib/python3.10/site-packages (from gradio-client==0.16.1->gradio==4.29.0) (11.0.3)\n",
      "Requirement already satisfied: jsonschema>=3.0 in /usr/lib/python3/dist-packages (from altair<6.0,>=4.2.0->gradio==4.29.0) (3.2.0)\n",
      "Requirement already satisfied: toolz in /home/awhn/.local/lib/python3.10/site-packages (from altair<6.0,>=4.2.0->gradio==4.29.0) (0.12.1)\n",
      "Requirement already satisfied: certifi in /usr/lib/python3/dist-packages (from httpx>=0.24.1->gradio==4.29.0) (2020.6.20)\n",
      "Requirement already satisfied: httpcore<0.18.0,>=0.15.0 in /home/awhn/.local/lib/python3.10/site-packages (from httpx>=0.24.1->gradio==4.29.0) (0.15.0)\n",
      "Requirement already satisfied: idna in /usr/lib/python3/dist-packages (from httpx>=0.24.1->gradio==4.29.0) (3.3)\n",
      "Requirement already satisfied: sniffio in /home/awhn/.local/lib/python3.10/site-packages (from httpx>=0.24.1->gradio==4.29.0) (1.3.1)\n",
      "Requirement already satisfied: filelock in /home/awhn/.local/lib/python3.10/site-packages (from huggingface-hub>=0.19.3->gradio==4.29.0) (3.13.1)\n",
      "Requirement already satisfied: requests in /usr/lib/python3/dist-packages (from huggingface-hub>=0.19.3->gradio==4.29.0) (2.25.1)\n",
      "Requirement already satisfied: tqdm>=4.42.1 in /home/awhn/.local/lib/python3.10/site-packages (from huggingface-hub>=0.19.3->gradio==4.29.0) (4.66.2)\n",
      "Requirement already satisfied: python-dateutil>=2.8.2 in /home/awhn/.local/lib/python3.10/site-packages (from pandas<3.0,>=1.0->gradio==4.29.0) (2.9.0.post0)\n",
      "Requirement already satisfied: pytz>=2020.1 in /usr/lib/python3/dist-packages (from pandas<3.0,>=1.0->gradio==4.29.0) (2022.1)\n",
      "Requirement already satisfied: tzdata>=2022.7 in /home/awhn/.local/lib/python3.10/site-packages (from pandas<3.0,>=1.0->gradio==4.29.0) (2024.1)\n",
      "Requirement already satisfied: annotated-types>=0.4.0 in /home/awhn/.local/lib/python3.10/site-packages (from pydantic>=2.0->gradio==4.29.0) (0.6.0)\n",
      "Requirement already satisfied: pydantic-core==2.20.1 in /home/awhn/.local/lib/python3.10/site-packages (from pydantic>=2.0->gradio==4.29.0) (2.20.1)\n",
      "Requirement already satisfied: click>=8.0.0 in /usr/lib/python3/dist-packages (from typer<1.0,>=0.12->gradio==4.29.0) (8.0.3)\n",
      "Requirement already satisfied: shellingham>=1.3.0 in /home/awhn/.local/lib/python3.10/site-packages (from typer<1.0,>=0.12->gradio==4.29.0) (1.5.4)\n",
      "Requirement already satisfied: rich>=10.11.0 in /home/awhn/.local/lib/python3.10/site-packages (from typer<1.0,>=0.12->gradio==4.29.0) (13.7.1)\n",
      "Requirement already satisfied: h11>=0.8 in /home/awhn/.local/lib/python3.10/site-packages (from uvicorn>=0.14.0->gradio==4.29.0) (0.12.0)\n",
      "Requirement already satisfied: starlette<0.39.0,>=0.37.2 in /home/awhn/.local/lib/python3.10/site-packages (from fastapi->gradio==4.29.0) (0.38.2)\n",
      "Requirement already satisfied: anyio==3.* in /home/awhn/.local/lib/python3.10/site-packages (from httpcore<0.18.0,>=0.15.0->httpx>=0.24.1->gradio==4.29.0) (3.7.1)\n",
      "Requirement already satisfied: exceptiongroup in /home/awhn/.local/lib/python3.10/site-packages (from anyio==3.*->httpcore<0.18.0,>=0.15.0->httpx>=0.24.1->gradio==4.29.0) (1.2.0)\n",
      "Requirement already satisfied: six>=1.5 in /usr/lib/python3/dist-packages (from python-dateutil>=2.8.2->pandas<3.0,>=1.0->gradio==4.29.0) (1.16.0)\n",
      "Requirement already satisfied: markdown-it-py>=2.2.0 in /home/awhn/.local/lib/python3.10/site-packages (from rich>=10.11.0->typer<1.0,>=0.12->gradio==4.29.0) (3.0.0)\n",
      "Requirement already satisfied: pygments<3.0.0,>=2.13.0 in /home/awhn/.local/lib/python3.10/site-packages (from rich>=10.11.0->typer<1.0,>=0.12->gradio==4.29.0) (2.17.2)\n",
      "Requirement already satisfied: mdurl~=0.1 in /home/awhn/.local/lib/python3.10/site-packages (from markdown-it-py>=2.2.0->rich>=10.11.0->typer<1.0,>=0.12->gradio==4.29.0) (0.1.2)\n",
      "\u001b[33mDEPRECATION: python-apt 2.4.0-ubuntu3-zorin1 has a non-standard version number. pip 24.1 will enforce this behaviour change. A possible replacement is to upgrade to a newer version of python-apt or contact the author to suggest that they release a version with a conforming version number. Discussion can be found at https://github.com/pypa/pip/issues/12063\u001b[0m\u001b[33m\n",
      "\u001b[0m\n",
      "\u001b[1m[\u001b[0m\u001b[34;49mnotice\u001b[0m\u001b[1;39;49m]\u001b[0m\u001b[39;49m A new release of pip is available: \u001b[0m\u001b[31;49m24.0\u001b[0m\u001b[39;49m -> \u001b[0m\u001b[32;49m24.2\u001b[0m\n",
      "\u001b[1m[\u001b[0m\u001b[34;49mnotice\u001b[0m\u001b[1;39;49m]\u001b[0m\u001b[39;49m To update, run: \u001b[0m\u001b[32;49mpython3 -m pip install --upgrade pip\u001b[0m\n"
     ]
    }
   ],
   "source": [
    "!pip install gradio==4.29.0"
   ]
  },
  {
   "cell_type": "code",
   "execution_count": 2,
   "id": "9c97336b",
   "metadata": {},
   "outputs": [
    {
     "name": "stdout",
     "output_type": "stream",
     "text": [
      "Defaulting to user installation because normal site-packages is not writeable\n",
      "\u001b[31mERROR: Could not find a version that satisfies the requirement cv2 (from versions: none)\u001b[0m\u001b[31m\n",
      "\u001b[0m\u001b[31mERROR: No matching distribution found for cv2\u001b[0m\u001b[31m\n",
      "\u001b[0m\n",
      "\u001b[1m[\u001b[0m\u001b[34;49mnotice\u001b[0m\u001b[1;39;49m]\u001b[0m\u001b[39;49m A new release of pip is available: \u001b[0m\u001b[31;49m24.0\u001b[0m\u001b[39;49m -> \u001b[0m\u001b[32;49m24.2\u001b[0m\n",
      "\u001b[1m[\u001b[0m\u001b[34;49mnotice\u001b[0m\u001b[1;39;49m]\u001b[0m\u001b[39;49m To update, run: \u001b[0m\u001b[32;49mpython3 -m pip install --upgrade pip\u001b[0m\n"
     ]
    }
   ],
   "source": [
    "!pip install cv2"
   ]
  },
  {
   "cell_type": "code",
   "execution_count": 3,
   "id": "eeff62e2",
   "metadata": {
    "scrolled": true
   },
   "outputs": [
    {
     "name": "stdout",
     "output_type": "stream",
     "text": [
      "Defaulting to user installation because normal site-packages is not writeable\n",
      "Collecting ultralytics\n",
      "  Downloading ultralytics-8.2.82-py3-none-any.whl.metadata (41 kB)\n",
      "\u001b[2K     \u001b[38;2;114;156;31m━━━━━━━━━━━━━━━━━━━━━━━━━━━━━━━━━━━━━━━━\u001b[0m \u001b[32m41.3/41.3 kB\u001b[0m \u001b[31m2.7 MB/s\u001b[0m eta \u001b[36m0:00:00\u001b[0m\n",
      "\u001b[?25hRequirement already satisfied: numpy<2.0.0,>=1.23.0 in /home/awhn/.local/lib/python3.10/site-packages (from ultralytics) (1.26.2)\n",
      "Requirement already satisfied: matplotlib>=3.3.0 in /usr/lib/python3/dist-packages (from ultralytics) (3.5.1)\n",
      "Requirement already satisfied: opencv-python>=4.6.0 in /home/awhn/.local/lib/python3.10/site-packages (from ultralytics) (4.9.0.80)\n",
      "Requirement already satisfied: pillow>=7.1.2 in /home/awhn/.local/lib/python3.10/site-packages (from ultralytics) (9.5.0)\n",
      "Requirement already satisfied: pyyaml>=5.3.1 in /usr/lib/python3/dist-packages (from ultralytics) (5.4.1)\n",
      "Requirement already satisfied: requests>=2.23.0 in /usr/lib/python3/dist-packages (from ultralytics) (2.25.1)\n",
      "Requirement already satisfied: scipy>=1.4.1 in /usr/lib/python3/dist-packages (from ultralytics) (1.8.0)\n",
      "Requirement already satisfied: torch>=1.8.0 in /home/awhn/.local/lib/python3.10/site-packages (from ultralytics) (2.2.2)\n",
      "Requirement already satisfied: torchvision>=0.9.0 in /home/awhn/.local/lib/python3.10/site-packages (from ultralytics) (0.17.2)\n",
      "Requirement already satisfied: tqdm>=4.64.0 in /home/awhn/.local/lib/python3.10/site-packages (from ultralytics) (4.66.2)\n",
      "Requirement already satisfied: psutil in /home/awhn/.local/lib/python3.10/site-packages (from ultralytics) (5.9.5)\n",
      "Collecting py-cpuinfo (from ultralytics)\n",
      "  Downloading py_cpuinfo-9.0.0-py3-none-any.whl.metadata (794 bytes)\n",
      "Requirement already satisfied: pandas>=1.1.4 in /home/awhn/.local/lib/python3.10/site-packages (from ultralytics) (2.2.1)\n",
      "Collecting seaborn>=0.11.0 (from ultralytics)\n",
      "  Downloading seaborn-0.13.2-py3-none-any.whl.metadata (5.4 kB)\n",
      "Collecting ultralytics-thop>=2.0.0 (from ultralytics)\n",
      "  Downloading ultralytics_thop-2.0.5-py3-none-any.whl.metadata (8.9 kB)\n",
      "Requirement already satisfied: python-dateutil>=2.8.2 in /home/awhn/.local/lib/python3.10/site-packages (from pandas>=1.1.4->ultralytics) (2.9.0.post0)\n",
      "Requirement already satisfied: pytz>=2020.1 in /usr/lib/python3/dist-packages (from pandas>=1.1.4->ultralytics) (2022.1)\n",
      "Requirement already satisfied: tzdata>=2022.7 in /home/awhn/.local/lib/python3.10/site-packages (from pandas>=1.1.4->ultralytics) (2024.1)\n",
      "Requirement already satisfied: filelock in /home/awhn/.local/lib/python3.10/site-packages (from torch>=1.8.0->ultralytics) (3.13.1)\n",
      "Requirement already satisfied: typing-extensions>=4.8.0 in /home/awhn/.local/lib/python3.10/site-packages (from torch>=1.8.0->ultralytics) (4.9.0)\n",
      "Requirement already satisfied: sympy in /usr/lib/python3/dist-packages (from torch>=1.8.0->ultralytics) (1.9)\n",
      "Requirement already satisfied: networkx in /home/awhn/.local/lib/python3.10/site-packages (from torch>=1.8.0->ultralytics) (3.2.1)\n",
      "Requirement already satisfied: jinja2 in /usr/lib/python3/dist-packages (from torch>=1.8.0->ultralytics) (3.0.3)\n",
      "Requirement already satisfied: fsspec in /home/awhn/.local/lib/python3.10/site-packages (from torch>=1.8.0->ultralytics) (2024.3.1)\n",
      "Requirement already satisfied: nvidia-cuda-nvrtc-cu12==12.1.105 in /home/awhn/.local/lib/python3.10/site-packages (from torch>=1.8.0->ultralytics) (12.1.105)\n",
      "Requirement already satisfied: nvidia-cuda-runtime-cu12==12.1.105 in /home/awhn/.local/lib/python3.10/site-packages (from torch>=1.8.0->ultralytics) (12.1.105)\n",
      "Requirement already satisfied: nvidia-cuda-cupti-cu12==12.1.105 in /home/awhn/.local/lib/python3.10/site-packages (from torch>=1.8.0->ultralytics) (12.1.105)\n",
      "Requirement already satisfied: nvidia-cudnn-cu12==8.9.2.26 in /home/awhn/.local/lib/python3.10/site-packages (from torch>=1.8.0->ultralytics) (8.9.2.26)\n",
      "Requirement already satisfied: nvidia-cublas-cu12==12.1.3.1 in /home/awhn/.local/lib/python3.10/site-packages (from torch>=1.8.0->ultralytics) (12.1.3.1)\n",
      "Requirement already satisfied: nvidia-cufft-cu12==11.0.2.54 in /home/awhn/.local/lib/python3.10/site-packages (from torch>=1.8.0->ultralytics) (11.0.2.54)\n",
      "Requirement already satisfied: nvidia-curand-cu12==10.3.2.106 in /home/awhn/.local/lib/python3.10/site-packages (from torch>=1.8.0->ultralytics) (10.3.2.106)\n",
      "Requirement already satisfied: nvidia-cusolver-cu12==11.4.5.107 in /home/awhn/.local/lib/python3.10/site-packages (from torch>=1.8.0->ultralytics) (11.4.5.107)\n",
      "Requirement already satisfied: nvidia-cusparse-cu12==12.1.0.106 in /home/awhn/.local/lib/python3.10/site-packages (from torch>=1.8.0->ultralytics) (12.1.0.106)\n",
      "Requirement already satisfied: nvidia-nccl-cu12==2.19.3 in /home/awhn/.local/lib/python3.10/site-packages (from torch>=1.8.0->ultralytics) (2.19.3)\n",
      "Requirement already satisfied: nvidia-nvtx-cu12==12.1.105 in /home/awhn/.local/lib/python3.10/site-packages (from torch>=1.8.0->ultralytics) (12.1.105)\n",
      "Requirement already satisfied: triton==2.2.0 in /home/awhn/.local/lib/python3.10/site-packages (from torch>=1.8.0->ultralytics) (2.2.0)\n",
      "Requirement already satisfied: nvidia-nvjitlink-cu12 in /home/awhn/.local/lib/python3.10/site-packages (from nvidia-cusolver-cu12==11.4.5.107->torch>=1.8.0->ultralytics) (12.4.99)\n",
      "Requirement already satisfied: six>=1.5 in /usr/lib/python3/dist-packages (from python-dateutil>=2.8.2->pandas>=1.1.4->ultralytics) (1.16.0)\n",
      "Downloading ultralytics-8.2.82-py3-none-any.whl (871 kB)\n",
      "\u001b[2K   \u001b[38;2;114;156;31m━━━━━━━━━━━━━━━━━━━━━━━━━━━━━━━━━━━━━━━━\u001b[0m \u001b[32m871.1/871.1 kB\u001b[0m \u001b[31m14.6 MB/s\u001b[0m eta \u001b[36m0:00:00\u001b[0m MB/s\u001b[0m eta \u001b[36m0:00:01\u001b[0m\n",
      "\u001b[?25hDownloading seaborn-0.13.2-py3-none-any.whl (294 kB)\n",
      "\u001b[2K   \u001b[38;2;114;156;31m━━━━━━━━━━━━━━━━━━━━━━━━━━━━━━━━━━━━━━━━\u001b[0m \u001b[32m294.9/294.9 kB\u001b[0m \u001b[31m24.5 MB/s\u001b[0m eta \u001b[36m0:00:00\u001b[0m\n",
      "\u001b[?25hDownloading ultralytics_thop-2.0.5-py3-none-any.whl (25 kB)\n",
      "Downloading py_cpuinfo-9.0.0-py3-none-any.whl (22 kB)\n",
      "\u001b[33mDEPRECATION: python-apt 2.4.0-ubuntu3-zorin1 has a non-standard version number. pip 24.1 will enforce this behaviour change. A possible replacement is to upgrade to a newer version of python-apt or contact the author to suggest that they release a version with a conforming version number. Discussion can be found at https://github.com/pypa/pip/issues/12063\u001b[0m\u001b[33m\n",
      "\u001b[0mInstalling collected packages: py-cpuinfo, seaborn, ultralytics-thop, ultralytics\n",
      "Successfully installed py-cpuinfo-9.0.0 seaborn-0.13.2 ultralytics-8.2.82 ultralytics-thop-2.0.5\n",
      "\n",
      "\u001b[1m[\u001b[0m\u001b[34;49mnotice\u001b[0m\u001b[1;39;49m]\u001b[0m\u001b[39;49m A new release of pip is available: \u001b[0m\u001b[31;49m24.0\u001b[0m\u001b[39;49m -> \u001b[0m\u001b[32;49m24.2\u001b[0m\n",
      "\u001b[1m[\u001b[0m\u001b[34;49mnotice\u001b[0m\u001b[1;39;49m]\u001b[0m\u001b[39;49m To update, run: \u001b[0m\u001b[32;49mpython3 -m pip install --upgrade pip\u001b[0m\n"
     ]
    }
   ],
   "source": [
    "!pip install ultralytics"
   ]
  },
  {
   "cell_type": "code",
   "execution_count": 4,
   "id": "e94bab6a",
   "metadata": {
    "scrolled": true
   },
   "outputs": [
    {
     "name": "stdout",
     "output_type": "stream",
     "text": [
      "Defaulting to user installation because normal site-packages is not writeable\n",
      "Collecting serial\n",
      "  Downloading serial-0.0.97-py2.py3-none-any.whl.metadata (889 bytes)\n",
      "Requirement already satisfied: future>=0.17.1 in /usr/lib/python3/dist-packages (from serial) (0.18.2)\n",
      "Requirement already satisfied: pyyaml>=3.13 in /usr/lib/python3/dist-packages (from serial) (5.4.1)\n",
      "Collecting iso8601>=0.1.12 (from serial)\n",
      "  Downloading iso8601-2.1.0-py3-none-any.whl.metadata (3.7 kB)\n",
      "Downloading serial-0.0.97-py2.py3-none-any.whl (40 kB)\n",
      "\u001b[2K   \u001b[38;2;114;156;31m━━━━━━━━━━━━━━━━━━━━━━━━━━━━━━━━━━━━━━━━\u001b[0m \u001b[32m40.9/40.9 kB\u001b[0m \u001b[31m3.0 MB/s\u001b[0m eta \u001b[36m0:00:00\u001b[0m\n",
      "\u001b[?25hDownloading iso8601-2.1.0-py3-none-any.whl (7.5 kB)\n",
      "\u001b[33mDEPRECATION: python-apt 2.4.0-ubuntu3-zorin1 has a non-standard version number. pip 24.1 will enforce this behaviour change. A possible replacement is to upgrade to a newer version of python-apt or contact the author to suggest that they release a version with a conforming version number. Discussion can be found at https://github.com/pypa/pip/issues/12063\u001b[0m\u001b[33m\n",
      "\u001b[0mInstalling collected packages: iso8601, serial\n",
      "Successfully installed iso8601-2.1.0 serial-0.0.97\n",
      "\n",
      "\u001b[1m[\u001b[0m\u001b[34;49mnotice\u001b[0m\u001b[1;39;49m]\u001b[0m\u001b[39;49m A new release of pip is available: \u001b[0m\u001b[31;49m24.0\u001b[0m\u001b[39;49m -> \u001b[0m\u001b[32;49m24.2\u001b[0m\n",
      "\u001b[1m[\u001b[0m\u001b[34;49mnotice\u001b[0m\u001b[1;39;49m]\u001b[0m\u001b[39;49m To update, run: \u001b[0m\u001b[32;49mpython3 -m pip install --upgrade pip\u001b[0m\n"
     ]
    }
   ],
   "source": [
    "!pip install serial"
   ]
  },
  {
   "cell_type": "code",
   "execution_count": 7,
   "id": "5ea42166",
   "metadata": {},
   "outputs": [
    {
     "name": "stdout",
     "output_type": "stream",
     "text": [
      "Defaulting to user installation because normal site-packages is not writeable\n",
      "Collecting pyserial\n",
      "  Downloading pyserial-3.5-py2.py3-none-any.whl.metadata (1.6 kB)\n",
      "Downloading pyserial-3.5-py2.py3-none-any.whl (90 kB)\n",
      "\u001b[2K   \u001b[38;2;114;156;31m━━━━━━━━━━━━━━━━━━━━━━━━━━━━━━━━━━━━━━━━\u001b[0m \u001b[32m90.6/90.6 kB\u001b[0m \u001b[31m4.3 MB/s\u001b[0m eta \u001b[36m0:00:00\u001b[0m\n",
      "\u001b[?25h\u001b[33mDEPRECATION: python-apt 2.4.0-ubuntu3-zorin1 has a non-standard version number. pip 24.1 will enforce this behaviour change. A possible replacement is to upgrade to a newer version of python-apt or contact the author to suggest that they release a version with a conforming version number. Discussion can be found at https://github.com/pypa/pip/issues/12063\u001b[0m\u001b[33m\n",
      "\u001b[0mInstalling collected packages: pyserial\n",
      "Successfully installed pyserial-3.5\n",
      "\n",
      "\u001b[1m[\u001b[0m\u001b[34;49mnotice\u001b[0m\u001b[1;39;49m]\u001b[0m\u001b[39;49m A new release of pip is available: \u001b[0m\u001b[31;49m24.0\u001b[0m\u001b[39;49m -> \u001b[0m\u001b[32;49m24.2\u001b[0m\n",
      "\u001b[1m[\u001b[0m\u001b[34;49mnotice\u001b[0m\u001b[1;39;49m]\u001b[0m\u001b[39;49m To update, run: \u001b[0m\u001b[32;49mpython3 -m pip install --upgrade pip\u001b[0m\n"
     ]
    }
   ],
   "source": [
    "!pip install pyserial"
   ]
  },
  {
   "cell_type": "code",
   "execution_count": 44,
   "id": "5703add9",
   "metadata": {
    "scrolled": true
   },
   "outputs": [
    {
     "name": "stdout",
     "output_type": "stream",
     "text": [
      "Running on local URL:  http://127.0.0.1:7879\n",
      "\n",
      "To create a public link, set `share=True` in `launch()`.\n"
     ]
    },
    {
     "data": {
      "text/html": [
       "<div><iframe src=\"http://127.0.0.1:7879/\" width=\"100%\" height=\"500\" allow=\"autoplay; camera; microphone; clipboard-read; clipboard-write;\" frameborder=\"0\" allowfullscreen></iframe></div>"
      ],
      "text/plain": [
       "<IPython.core.display.HTML object>"
      ]
     },
     "metadata": {},
     "output_type": "display_data"
    },
    {
     "data": {
      "text/plain": []
     },
     "execution_count": 44,
     "metadata": {},
     "output_type": "execute_result"
    }
   ],
   "source": [
    "import gradio as gr\n",
    "import cv2\n",
    "import numpy as np\n",
    "from ultralytics import YOLO\n",
    "import serial\n",
    "import serial.tools.list_ports\n",
    "from PIL import Image\n",
    "\n",
    "# Load the YOLO model\n",
    "model = YOLO(\"yolov8n-seg.pt\")  # load an official model\n",
    "\n",
    "# Check serial ports\n",
    "available_ports = []\n",
    "ports = serial.tools.list_ports.comports()\n",
    "for p in ports:\n",
    "    available_ports.append(p.device)   \n",
    "\n",
    "def capture_and_inference(image):       \n",
    "    # Perform prediction\n",
    "    results = model(image)\n",
    "    \n",
    "    # Get the image with predictions\n",
    "    img = results[0].plot()\n",
    "    \n",
    "    # Create a heatmap\n",
    "    heatmap = np.zeros((img.shape[0], img.shape[1]), dtype=np.float32)\n",
    "    \n",
    "    # Overlay the prediction masks onto the heatmap\n",
    "    if results[0].masks is not None:\n",
    "        for mask in results[0].masks.data:\n",
    "            mask = mask.cpu().numpy().squeeze()  # Convert mask to numpy array and remove single-dimensional entries\n",
    "            mask_resized = cv2.resize(mask, (heatmap.shape[1], heatmap.shape[0]))  # Resize mask to match heatmap size\n",
    "            heatmap = cv2.add(heatmap, mask_resized.astype(np.float32))\n",
    "    \n",
    "    # Normalize the heatmap\n",
    "    heatmap = cv2.normalize(heatmap, None, alpha=0, beta=1, norm_type=cv2.NORM_MINMAX, dtype=cv2.CV_32F)\n",
    "    \n",
    "    # Convert heatmap to RGB\n",
    "    heatmap_img = cv2.applyColorMap(np.uint8(255 * heatmap), cv2.COLORMAP_JET)\n",
    "    \n",
    "    # Combine the original image with the heatmap\n",
    "    overlay_img = cv2.addWeighted(img, 0.6, heatmap_img, 0.4, 0)\n",
    "    \n",
    "    return overlay_img\n",
    "\n",
    "def serial_communication(message):\n",
    "    # This function is a placeholder. You need to initialize 'ser' with the correct port\n",
    "    # ser = serial.Serial(port, baudrate, timeout=1)\n",
    "    # Send character 'S' to start the program\n",
    "    # ser.write(bytearray('S','ascii'))\n",
    "    # Read line   \n",
    "    # while True:\n",
    "    #     bs = ser.readline()\n",
    "    #     print(bs)\n",
    "    return \"Serial communication placeholder\"\n",
    "\n",
    "# Main Gradio App\n",
    "with gr.Blocks() as app:\n",
    "    gr.Markdown(\"# PAL Controller\")\n",
    "    ## Settings\n",
    "    gr.Markdown(\"## 0. 환경 설정\")\n",
    "    with gr.Row():\n",
    "        with gr.Column(scale=1):\n",
    "            ## Serial Setting\n",
    "            gr.Markdown(\"### 0-1. 시리얼 세팅\")\n",
    "            serial_port = gr.Dropdown(\n",
    "                available_ports,\n",
    "                label = \"Serial Port\",\n",
    "                info = \"Select Serial port\"\n",
    "            )\n",
    "        with gr.Column(scale=2):\n",
    "            ## Webcam Setting\n",
    "            gr.Markdown(\"### 0-2. 웹캠 세팅\")\n",
    "            inp = gr.Image(sources='webcam', streaming=True)\n",
    "    \n",
    "    ## Run & Inference\n",
    "    gr.Markdown(\"## 1. 인스턴스 세그멘테이션 결과\")\n",
    "    out = gr.Image(label=\"Segmentation Result\")\n",
    "    btn = gr.Button(\"Capture and Run\")\n",
    "    btn.click(fn=capture_and_inference, inputs=inp, outputs=out)\n",
    "    \n",
    "    ## Job Scheduling\n",
    "    gr.Markdown(\"## 2. 작업 관리\")\n",
    "    gr.Markdown(\"### 2-1. 작업 필터\")\n",
    "    gr.Markdown(\"### 2-2. 작업 큐\")\n",
    "\n",
    "    job_status = gr.Textbox(label=\"Job Status\")\n",
    "    \n",
    "    ## Serial Communication\n",
    "    gr.Markdown(\"## 3. 시리얼 통신 및 수행 결과\")\n",
    "    serial_output = gr.Textbox(label=\"Serial Communication Result\")\n",
    "    \n",
    "    # Set up event handlers\n",
    "    capture_button.click(\n",
    "        fn=capture_and_inference,\n",
    "        inputs=[webcam],\n",
    "        outputs=[output_image, output_heatmap]\n",
    "    ).then(\n",
    "        fn=serial_communication,\n",
    "        inputs=[serial_port],\n",
    "        outputs=[serial_output]\n",
    "    )\n",
    "    \n",
    "app.launch()"
   ]
  }
 ],
 "metadata": {
  "kernelspec": {
   "display_name": "Python 3 (ipykernel)",
   "language": "python",
   "name": "python3"
  },
  "language_info": {
   "codemirror_mode": {
    "name": "ipython",
    "version": 3
   },
   "file_extension": ".py",
   "mimetype": "text/x-python",
   "name": "python",
   "nbconvert_exporter": "python",
   "pygments_lexer": "ipython3",
   "version": "3.10.12"
  }
 },
 "nbformat": 4,
 "nbformat_minor": 5
}
