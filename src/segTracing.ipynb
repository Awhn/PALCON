{
 "cells": [
  {
   "cell_type": "code",
   "execution_count": null,
   "metadata": {},
   "outputs": [],
   "source": [
    "from ultralytics import YOLO\n",
    "import matplotlib.pyplot as plt\n",
    "import cv2\n",
    "import numpy as np"
   ]
  },
  {
   "cell_type": "code",
   "execution_count": null,
   "metadata": {},
   "outputs": [],
   "source": [
    "# Load the YOLO model\n",
    "model = YOLO(\"yolov8n-seg.pt\")\n",
    "\n",
    "# Open the webcam\n",
    "cap = cv2.VideoCapture(0)\n",
    "\n",
    "if not cap.isOpened():\n",
    "    print(\"Error: Could not open webcam.\")\n",
    "    exit()\n",
    "\n",
    "# Define the target class indices and their corresponding colors\n",
    "target_class_indices = [41, 43, 44, 45, 46, 47]\n",
    "class_names = [\"cup\", \"fork\", \"knife\", \"spoon\", \"bowl\", \"plate\"]\n",
    "colors = [\n",
    "    (205, 115, 15),   # Red for cup\n",
    "    (0, 255, 0),   # Green for fork\n",
    "    (0, 0, 255),   # Blue for knife\n",
    "    (255, 255, 0), # Cyan for spoon\n",
    "    (255, 0, 255), # Magenta for bowl\n",
    "    (0, 255, 255)  # Yellow for plate\n",
    "]\n",
    "\n",
    "while True:\n",
    "    ret, frame = cap.read()\n",
    "\n",
    "    if not ret:\n",
    "        print(\"Error: Failed to capture image.\")\n",
    "        break\n",
    "\n",
    "    results = model(frame)\n",
    "    img = frame.copy()\n",
    "\n",
    "    if results[0].masks is not None:\n",
    "        for mask, cls, box in zip(results[0].masks.data, results[0].boxes.cls, results[0].boxes.xyxy):\n",
    "            cls = int(cls)\n",
    "            if cls in target_class_indices:\n",
    "                mask = mask.cpu().numpy().squeeze()\n",
    "\n",
    "                # Get original mask dimensions\n",
    "                mask_height, mask_width = mask.shape\n",
    "\n",
    "                # Resize mask to match image dimensions\n",
    "                mask_resized = cv2.resize(mask, (img.shape[1], img.shape[0]))\n",
    "\n",
    "                # Calculate moments on the resized mask\n",
    "                moments = cv2.moments(mask_resized)\n",
    "                if moments[\"m00\"] != 0:\n",
    "                    center_x = int(moments[\"m10\"] / moments[\"m00\"])\n",
    "                    center_y = int(moments[\"m01\"] / moments[\"m00\"])\n",
    "                else:\n",
    "                    center_x, center_y = 0, 0\n",
    "\n",
    "                color = colors[target_class_indices.index(cls)]\n",
    "\n",
    "                # Apply mask to image\n",
    "                img[mask_resized > 0.5] = img[mask_resized > 0.5] * 0.5 + np.array(color) * 0.5\n",
    "\n",
    "                x1, y1, x2, y2 = map(int, box)\n",
    "                cv2.rectangle(img, (x1, y1), (x2, y2), color, 2)\n",
    "\n",
    "                class_name = class_names[target_class_indices.index(cls)]\n",
    "                label = f\"{class_name} ({center_x},{center_y})\"\n",
    "                cv2.putText(img, label, (x1, y1 - 10), cv2.FONT_HERSHEY_SIMPLEX, 1.2, color, 3, cv2.LINE_AA)\n",
    "\n",
    "                # Draw a red circle at the center of the segmentation mask\n",
    "                cv2.circle(img, (center_x, center_y), 5, (0, 0, 255), -1)\n",
    "\n",
    "    cv2.imshow('Original Image with Predictions', img)\n",
    "\n",
    "    if cv2.waitKey(1) & 0xFF == ord('q'):\n",
    "        break\n",
    "\n",
    "cap.release()\n",
    "cv2.destroyAllWindows()\n"
   ]
  },
  {
   "cell_type": "markdown",
   "metadata": {},
   "source": []
  },
  {
   "cell_type": "code",
   "execution_count": null,
   "metadata": {},
   "outputs": [],
   "source": [
    "# # Perform prediction\n",
    "# results = model(frame) 의결과를 출력하지 않도록 조용히 변경\n",
    "\n"
   ]
  },
  {
   "cell_type": "code",
   "execution_count": null,
   "metadata": {},
   "outputs": [],
   "source": []
  }
 ],
 "metadata": {
  "kernelspec": {
   "display_name": "Python 3",
   "language": "python",
   "name": "python3"
  },
  "language_info": {
   "codemirror_mode": {
    "name": "ipython",
    "version": 3
   },
   "file_extension": ".py",
   "mimetype": "text/x-python",
   "name": "python",
   "nbconvert_exporter": "python",
   "pygments_lexer": "ipython3",
   "version": "3.9.6"
  }
 },
 "nbformat": 4,
 "nbformat_minor": 2
}
